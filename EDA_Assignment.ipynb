{
  "nbformat": 4,
  "nbformat_minor": 0,
  "metadata": {
    "colab": {
      "provenance": []
    },
    "kernelspec": {
      "name": "python3",
      "display_name": "Python 3"
    },
    "language_info": {
      "name": "python"
    }
  },
  "cells": [
    {
      "cell_type": "markdown",
      "source": [
        "Title: Bike Details Dataset"
      ],
      "metadata": {
        "id": "2utH4u0LCWp1"
      }
    },
    {
      "cell_type": "markdown",
      "source": [
        "Qns-1 What is the range of selling prices in the dataset?"
      ],
      "metadata": {
        "id": "6Zcbo6trCga1"
      }
    },
    {
      "cell_type": "code",
      "source": [
        "#Ans\n",
        "from google.colab import files\n",
        "uploaded = files.upload()\n",
        "\n",
        "import pandas as pd\n",
        "\n",
        "# Load the CSV file\n",
        "df = pd.read_csv(\"BIKE DETAILS.csv\")\n",
        "\n",
        "# Calculate the minimum and maximum selling price\n",
        "min_price = df['selling_price'].min()\n",
        "max_price = df['selling_price'].max()\n",
        "\n",
        "# Calculate the price range\n",
        "price_range = max_price - min_price\n",
        "\n",
        "# Display the results\n",
        "print(\"Minimum selling price:\", min_price)\n",
        "print(\"Maximum selling price:\", max_price)\n",
        "print(\"Price range:\", price_range)\n"
      ],
      "metadata": {
        "colab": {
          "base_uri": "https://localhost:8080/",
          "height": 125
        },
        "id": "-DwO6o12CqXf",
        "outputId": "3355593c-c97b-45d9-f71f-4e019abb71a8"
      },
      "execution_count": 11,
      "outputs": [
        {
          "output_type": "display_data",
          "data": {
            "text/plain": [
              "<IPython.core.display.HTML object>"
            ],
            "text/html": [
              "\n",
              "     <input type=\"file\" id=\"files-b3a498e9-e773-4964-be52-a4daa89b65a3\" name=\"files[]\" multiple disabled\n",
              "        style=\"border:none\" />\n",
              "     <output id=\"result-b3a498e9-e773-4964-be52-a4daa89b65a3\">\n",
              "      Upload widget is only available when the cell has been executed in the\n",
              "      current browser session. Please rerun this cell to enable.\n",
              "      </output>\n",
              "      <script>// Copyright 2017 Google LLC\n",
              "//\n",
              "// Licensed under the Apache License, Version 2.0 (the \"License\");\n",
              "// you may not use this file except in compliance with the License.\n",
              "// You may obtain a copy of the License at\n",
              "//\n",
              "//      http://www.apache.org/licenses/LICENSE-2.0\n",
              "//\n",
              "// Unless required by applicable law or agreed to in writing, software\n",
              "// distributed under the License is distributed on an \"AS IS\" BASIS,\n",
              "// WITHOUT WARRANTIES OR CONDITIONS OF ANY KIND, either express or implied.\n",
              "// See the License for the specific language governing permissions and\n",
              "// limitations under the License.\n",
              "\n",
              "/**\n",
              " * @fileoverview Helpers for google.colab Python module.\n",
              " */\n",
              "(function(scope) {\n",
              "function span(text, styleAttributes = {}) {\n",
              "  const element = document.createElement('span');\n",
              "  element.textContent = text;\n",
              "  for (const key of Object.keys(styleAttributes)) {\n",
              "    element.style[key] = styleAttributes[key];\n",
              "  }\n",
              "  return element;\n",
              "}\n",
              "\n",
              "// Max number of bytes which will be uploaded at a time.\n",
              "const MAX_PAYLOAD_SIZE = 100 * 1024;\n",
              "\n",
              "function _uploadFiles(inputId, outputId) {\n",
              "  const steps = uploadFilesStep(inputId, outputId);\n",
              "  const outputElement = document.getElementById(outputId);\n",
              "  // Cache steps on the outputElement to make it available for the next call\n",
              "  // to uploadFilesContinue from Python.\n",
              "  outputElement.steps = steps;\n",
              "\n",
              "  return _uploadFilesContinue(outputId);\n",
              "}\n",
              "\n",
              "// This is roughly an async generator (not supported in the browser yet),\n",
              "// where there are multiple asynchronous steps and the Python side is going\n",
              "// to poll for completion of each step.\n",
              "// This uses a Promise to block the python side on completion of each step,\n",
              "// then passes the result of the previous step as the input to the next step.\n",
              "function _uploadFilesContinue(outputId) {\n",
              "  const outputElement = document.getElementById(outputId);\n",
              "  const steps = outputElement.steps;\n",
              "\n",
              "  const next = steps.next(outputElement.lastPromiseValue);\n",
              "  return Promise.resolve(next.value.promise).then((value) => {\n",
              "    // Cache the last promise value to make it available to the next\n",
              "    // step of the generator.\n",
              "    outputElement.lastPromiseValue = value;\n",
              "    return next.value.response;\n",
              "  });\n",
              "}\n",
              "\n",
              "/**\n",
              " * Generator function which is called between each async step of the upload\n",
              " * process.\n",
              " * @param {string} inputId Element ID of the input file picker element.\n",
              " * @param {string} outputId Element ID of the output display.\n",
              " * @return {!Iterable<!Object>} Iterable of next steps.\n",
              " */\n",
              "function* uploadFilesStep(inputId, outputId) {\n",
              "  const inputElement = document.getElementById(inputId);\n",
              "  inputElement.disabled = false;\n",
              "\n",
              "  const outputElement = document.getElementById(outputId);\n",
              "  outputElement.innerHTML = '';\n",
              "\n",
              "  const pickedPromise = new Promise((resolve) => {\n",
              "    inputElement.addEventListener('change', (e) => {\n",
              "      resolve(e.target.files);\n",
              "    });\n",
              "  });\n",
              "\n",
              "  const cancel = document.createElement('button');\n",
              "  inputElement.parentElement.appendChild(cancel);\n",
              "  cancel.textContent = 'Cancel upload';\n",
              "  const cancelPromise = new Promise((resolve) => {\n",
              "    cancel.onclick = () => {\n",
              "      resolve(null);\n",
              "    };\n",
              "  });\n",
              "\n",
              "  // Wait for the user to pick the files.\n",
              "  const files = yield {\n",
              "    promise: Promise.race([pickedPromise, cancelPromise]),\n",
              "    response: {\n",
              "      action: 'starting',\n",
              "    }\n",
              "  };\n",
              "\n",
              "  cancel.remove();\n",
              "\n",
              "  // Disable the input element since further picks are not allowed.\n",
              "  inputElement.disabled = true;\n",
              "\n",
              "  if (!files) {\n",
              "    return {\n",
              "      response: {\n",
              "        action: 'complete',\n",
              "      }\n",
              "    };\n",
              "  }\n",
              "\n",
              "  for (const file of files) {\n",
              "    const li = document.createElement('li');\n",
              "    li.append(span(file.name, {fontWeight: 'bold'}));\n",
              "    li.append(span(\n",
              "        `(${file.type || 'n/a'}) - ${file.size} bytes, ` +\n",
              "        `last modified: ${\n",
              "            file.lastModifiedDate ? file.lastModifiedDate.toLocaleDateString() :\n",
              "                                    'n/a'} - `));\n",
              "    const percent = span('0% done');\n",
              "    li.appendChild(percent);\n",
              "\n",
              "    outputElement.appendChild(li);\n",
              "\n",
              "    const fileDataPromise = new Promise((resolve) => {\n",
              "      const reader = new FileReader();\n",
              "      reader.onload = (e) => {\n",
              "        resolve(e.target.result);\n",
              "      };\n",
              "      reader.readAsArrayBuffer(file);\n",
              "    });\n",
              "    // Wait for the data to be ready.\n",
              "    let fileData = yield {\n",
              "      promise: fileDataPromise,\n",
              "      response: {\n",
              "        action: 'continue',\n",
              "      }\n",
              "    };\n",
              "\n",
              "    // Use a chunked sending to avoid message size limits. See b/62115660.\n",
              "    let position = 0;\n",
              "    do {\n",
              "      const length = Math.min(fileData.byteLength - position, MAX_PAYLOAD_SIZE);\n",
              "      const chunk = new Uint8Array(fileData, position, length);\n",
              "      position += length;\n",
              "\n",
              "      const base64 = btoa(String.fromCharCode.apply(null, chunk));\n",
              "      yield {\n",
              "        response: {\n",
              "          action: 'append',\n",
              "          file: file.name,\n",
              "          data: base64,\n",
              "        },\n",
              "      };\n",
              "\n",
              "      let percentDone = fileData.byteLength === 0 ?\n",
              "          100 :\n",
              "          Math.round((position / fileData.byteLength) * 100);\n",
              "      percent.textContent = `${percentDone}% done`;\n",
              "\n",
              "    } while (position < fileData.byteLength);\n",
              "  }\n",
              "\n",
              "  // All done.\n",
              "  yield {\n",
              "    response: {\n",
              "      action: 'complete',\n",
              "    }\n",
              "  };\n",
              "}\n",
              "\n",
              "scope.google = scope.google || {};\n",
              "scope.google.colab = scope.google.colab || {};\n",
              "scope.google.colab._files = {\n",
              "  _uploadFiles,\n",
              "  _uploadFilesContinue,\n",
              "};\n",
              "})(self);\n",
              "</script> "
            ]
          },
          "metadata": {}
        },
        {
          "output_type": "stream",
          "name": "stdout",
          "text": [
            "Saving BIKE DETAILS.csv to BIKE DETAILS.csv\n",
            "Minimum selling price: 5000\n",
            "Maximum selling price: 760000\n",
            "Price range: 755000\n"
          ]
        }
      ]
    },
    {
      "cell_type": "markdown",
      "source": [
        "Qns-2 What is the median selling price for bikes in the dataset?"
      ],
      "metadata": {
        "id": "iaOtTJ68DzRP"
      }
    },
    {
      "cell_type": "code",
      "source": [
        "#Ans\n",
        "\n",
        "# Calculate the median selling price\n",
        "median_price = df['selling_price'].median()\n",
        "median_price\n"
      ],
      "metadata": {
        "colab": {
          "base_uri": "https://localhost:8080/"
        },
        "id": "aXhuxeuyD4Xv",
        "outputId": "c9f88689-16ff-4879-b87f-fe24baa58ba8"
      },
      "execution_count": 12,
      "outputs": [
        {
          "output_type": "execute_result",
          "data": {
            "text/plain": [
              "45000.0"
            ]
          },
          "metadata": {},
          "execution_count": 12
        }
      ]
    },
    {
      "cell_type": "markdown",
      "source": [
        "Qns-3 What is the most common seller type?"
      ],
      "metadata": {
        "id": "GCHtT4Wcw92o"
      }
    },
    {
      "cell_type": "code",
      "source": [
        "#Ans\n",
        "import pandas as pd\n",
        "pd.read_csv(\"BIKE DETAILS.csv\")\n",
        "\n",
        "# Find the most common seller type\n",
        "most_common_seller_type = df['seller_type'].mode()[0]\n",
        "most_common_seller_type\n"
      ],
      "metadata": {
        "colab": {
          "base_uri": "https://localhost:8080/",
          "height": 36
        },
        "id": "WX2JxhDdxB3a",
        "outputId": "fd9ace20-02b6-43bd-da03-ec14ea8a2166"
      },
      "execution_count": 14,
      "outputs": [
        {
          "output_type": "execute_result",
          "data": {
            "text/plain": [
              "'Individual'"
            ],
            "application/vnd.google.colaboratory.intrinsic+json": {
              "type": "string"
            }
          },
          "metadata": {},
          "execution_count": 14
        }
      ]
    },
    {
      "cell_type": "markdown",
      "source": [
        "Qns4 How many bikes have driven more than 50,000 kilometers?"
      ],
      "metadata": {
        "id": "EdMU03V1zCE2"
      }
    },
    {
      "cell_type": "code",
      "source": [
        "#Ans\n",
        "# Count the number of bikes with more than 50,000 km driven\n",
        "high_km_bikes_count = df[df['km_driven'] > 50000].shape[0]\n",
        "high_km_bikes_count\n"
      ],
      "metadata": {
        "colab": {
          "base_uri": "https://localhost:8080/"
        },
        "id": "ARBdwmC4zHQz",
        "outputId": "62aa895e-e2d2-481d-b720-1941d57b1e03"
      },
      "execution_count": 15,
      "outputs": [
        {
          "output_type": "execute_result",
          "data": {
            "text/plain": [
              "170"
            ]
          },
          "metadata": {},
          "execution_count": 15
        }
      ]
    },
    {
      "cell_type": "markdown",
      "source": [
        "Qns5  What is the average km_driven value for each ownership type?"
      ],
      "metadata": {
        "id": "aGMG_7y_zO4l"
      }
    },
    {
      "cell_type": "code",
      "source": [
        "#Ans\n",
        "# Calculate the average km_driven value for each ownership type\n",
        "average_km_driven = df.groupby('owner')['km_driven'].mean()\n",
        "average_km_driven"
      ],
      "metadata": {
        "colab": {
          "base_uri": "https://localhost:8080/",
          "height": 241
        },
        "id": "uPFrE0PwzS2y",
        "outputId": "2c2fede5-e489-4ee7-ff27-9b50c964da07"
      },
      "execution_count": 16,
      "outputs": [
        {
          "output_type": "execute_result",
          "data": {
            "text/plain": [
              "owner\n",
              "1st owner     32816.583333\n",
              "2nd owner     39288.991870\n",
              "3rd owner     33292.181818\n",
              "4th owner    311500.000000\n",
              "Name: km_driven, dtype: float64"
            ],
            "text/html": [
              "<div>\n",
              "<style scoped>\n",
              "    .dataframe tbody tr th:only-of-type {\n",
              "        vertical-align: middle;\n",
              "    }\n",
              "\n",
              "    .dataframe tbody tr th {\n",
              "        vertical-align: top;\n",
              "    }\n",
              "\n",
              "    .dataframe thead th {\n",
              "        text-align: right;\n",
              "    }\n",
              "</style>\n",
              "<table border=\"1\" class=\"dataframe\">\n",
              "  <thead>\n",
              "    <tr style=\"text-align: right;\">\n",
              "      <th></th>\n",
              "      <th>km_driven</th>\n",
              "    </tr>\n",
              "    <tr>\n",
              "      <th>owner</th>\n",
              "      <th></th>\n",
              "    </tr>\n",
              "  </thead>\n",
              "  <tbody>\n",
              "    <tr>\n",
              "      <th>1st owner</th>\n",
              "      <td>32816.583333</td>\n",
              "    </tr>\n",
              "    <tr>\n",
              "      <th>2nd owner</th>\n",
              "      <td>39288.991870</td>\n",
              "    </tr>\n",
              "    <tr>\n",
              "      <th>3rd owner</th>\n",
              "      <td>33292.181818</td>\n",
              "    </tr>\n",
              "    <tr>\n",
              "      <th>4th owner</th>\n",
              "      <td>311500.000000</td>\n",
              "    </tr>\n",
              "  </tbody>\n",
              "</table>\n",
              "</div><br><label><b>dtype:</b> float64</label>"
            ]
          },
          "metadata": {},
          "execution_count": 16
        }
      ]
    },
    {
      "cell_type": "markdown",
      "source": [
        "Qns6  What proportion of bikes are from the year 2015 or older?"
      ],
      "metadata": {
        "id": "03h37fn0zY-s"
      }
    },
    {
      "cell_type": "code",
      "source": [
        "#Ans\n",
        "\n",
        "import pandas as pd\n",
        "\n",
        "# Load the dataset\n",
        "df = pd.read_csv(\"BIKE DETAILS.csv\")\n",
        "\n",
        "# Filter bikes from 2015 or earlier\n",
        "older_bikes = df[df['year'] <= 2015]\n",
        "\n",
        "# Calculate the proportion\n",
        "proportion = len(older_bikes) / len(df)\n",
        "\n",
        "# Display result as a percentage\n",
        "print(\"Proportion of bikes from 2015 or older:\", proportion)\n",
        "print(\"As a percentage:\", round(proportion * 100, 2), \"%\")\n"
      ],
      "metadata": {
        "colab": {
          "base_uri": "https://localhost:8080/"
        },
        "id": "wLOU2KRdzc2h",
        "outputId": "6ef41fb9-4bda-4590-acfa-c53c9d83c269"
      },
      "execution_count": 17,
      "outputs": [
        {
          "output_type": "stream",
          "name": "stdout",
          "text": [
            "Proportion of bikes from 2015 or older: 0.5664467483506126\n",
            "As a percentage: 56.64 %\n"
          ]
        }
      ]
    },
    {
      "cell_type": "markdown",
      "source": [
        "Qns7 What is the trend of missing values across the dataset?"
      ],
      "metadata": {
        "id": "BMDpzbNdzknp"
      }
    },
    {
      "cell_type": "code",
      "source": [
        "#Ans\n",
        "import pandas as pd\n",
        "\n",
        "# Load the dataset\n",
        "df = pd.read_csv(\"BIKE DETAILS.csv\")\n",
        "\n",
        "# Check for missing values\n",
        "missing_values = df.isnull().sum()\n",
        "\n",
        "# Calculate percentage of missing values\n",
        "missing_percent = (missing_values / len(df)) * 100\n",
        "\n",
        "# Combine and display\n",
        "missing_report = pd.DataFrame({\n",
        "    'Missing Values': missing_values,\n",
        "    'Percentage (%)': round(missing_percent, 2)\n",
        "})\n",
        "\n",
        "print(missing_report)\n"
      ],
      "metadata": {
        "colab": {
          "base_uri": "https://localhost:8080/"
        },
        "id": "_4QnEmLAzp-I",
        "outputId": "aa807042-d1f4-43d5-bc34-cdf02f9c1086"
      },
      "execution_count": 18,
      "outputs": [
        {
          "output_type": "stream",
          "name": "stdout",
          "text": [
            "                   Missing Values  Percentage (%)\n",
            "name                            0             0.0\n",
            "selling_price                   0             0.0\n",
            "year                            0             0.0\n",
            "seller_type                     0             0.0\n",
            "owner                           0             0.0\n",
            "km_driven                       0             0.0\n",
            "ex_showroom_price             435            41.0\n"
          ]
        }
      ]
    },
    {
      "cell_type": "markdown",
      "source": [
        "Qns8 What is the highest ex_showroom_price recorded, and for which bike?"
      ],
      "metadata": {
        "id": "QCHbz4YAz4J3"
      }
    },
    {
      "cell_type": "code",
      "source": [
        "#Ans\n",
        "\n",
        "import pandas as pd\n",
        "\n",
        "# Load the dataset\n",
        "df = pd.read_csv(\"BIKE DETAILS.csv\")\n",
        "\n",
        "# Drop rows where ex_showroom_price is missing\n",
        "df_clean = df.dropna(subset=['ex_showroom_price'])\n",
        "\n",
        "# Find the row with the maximum ex_showroom_price\n",
        "max_price_row = df_clean[df_clean['ex_showroom_price'] == df_clean['ex_showroom_price'].max()]\n",
        "\n",
        "# Display the bike name and price\n",
        "bike_name = max_price_row['name'].values[0]\n",
        "max_price = max_price_row['ex_showroom_price'].values[0]\n",
        "\n",
        "print(\"Bike with highest ex-showroom price:\", bike_name)\n",
        "print(\"Ex-showroom price:\", max_price)\n"
      ],
      "metadata": {
        "colab": {
          "base_uri": "https://localhost:8080/"
        },
        "id": "O90FgR0X0MO3",
        "outputId": "06148c0b-e270-425b-8568-d63ac9deacac"
      },
      "execution_count": 19,
      "outputs": [
        {
          "output_type": "stream",
          "name": "stdout",
          "text": [
            "Bike with highest ex-showroom price: Harley-Davidson Street Bob\n",
            "Ex-showroom price: 1278000.0\n"
          ]
        }
      ]
    },
    {
      "cell_type": "markdown",
      "source": [
        "Qns-9 What is the total number of bikes listed by each seller type?"
      ],
      "metadata": {
        "id": "SAoNLE6b0ZuT"
      }
    },
    {
      "cell_type": "code",
      "source": [
        "#Ans\n",
        "import pandas as pd\n",
        "\n",
        "# Load the dataset\n",
        "df = pd.read_csv(\"BIKE DETAILS.csv\")\n",
        "\n",
        "# Count the number of listings for each seller type\n",
        "seller_counts = df['seller_type'].value_counts()\n",
        "\n",
        "print(seller_counts)\n"
      ],
      "metadata": {
        "colab": {
          "base_uri": "https://localhost:8080/"
        },
        "id": "9BFX3Rfg0dzm",
        "outputId": "14a44902-ab6e-47f2-ee13-8fa016a00d68"
      },
      "execution_count": 20,
      "outputs": [
        {
          "output_type": "stream",
          "name": "stdout",
          "text": [
            "seller_type\n",
            "Individual    1055\n",
            "Dealer           6\n",
            "Name: count, dtype: int64\n"
          ]
        }
      ]
    },
    {
      "cell_type": "code",
      "source": [
        "#Qns10 What is the relationship between selling_price and km_driven for first-owner bikes?\n",
        "\n",
        "#Ans\n",
        "\n",
        "import pandas as pd\n",
        "import matplotlib.pyplot as plt\n",
        "import seaborn as sns\n",
        "\n",
        "# Load the dataset\n",
        "df = pd.read_csv(\"BIKE DETAILS.csv\")\n",
        "\n",
        "# Filter for first-owner bikes\n",
        "first_owner_df = df[df['owner'].str.lower() == '1st owner']\n",
        "\n",
        "# Plot the relationship\n",
        "plt.figure(figsize=(10, 6))\n",
        "sns.scatterplot(data=first_owner_df, x='km_driven', y='selling_price')\n",
        "plt.title('Selling Price vs. Kilometers Driven (1st Owner Bikes)')\n",
        "plt.xlabel('Kilometers Driven')\n",
        "plt.ylabel('Selling Price')\n",
        "plt.grid(True)\n",
        "plt.show()\n"
      ],
      "metadata": {
        "colab": {
          "base_uri": "https://localhost:8080/",
          "height": 564
        },
        "id": "ztQbi7u400iz",
        "outputId": "000ce8e7-5ea3-4b72-a373-3256797ff43c"
      },
      "execution_count": 21,
      "outputs": [
        {
          "output_type": "display_data",
          "data": {
            "text/plain": [
              "<Figure size 1000x600 with 1 Axes>"
            ],
            "image/png": "[encoded data removed]"
          },
          "metadata": {}
        }
      ]
    },
    {
      "cell_type": "code",
      "source": [
        "#qns11- Identify and remove outliers in the km_driven column using the IQR method?\n",
        "\n",
        "#Ans\n",
        "\n",
        "import pandas as pd\n",
        "\n",
        "# Load the dataset\n",
        "df = pd.read_csv(\"BIKE DETAILS.csv\")\n",
        "\n",
        "# Calculate Q1 and Q3 for km_driven\n",
        "Q1 = df['km_driven'].quantile(0.25)\n",
        "Q3 = df['km_driven'].quantile(0.75)\n",
        "IQR = Q3 - Q1\n",
        "\n",
        "# Define lower and upper bounds\n",
        "lower_bound = Q1 - 1.5 * IQR\n",
        "upper_bound = Q3 + 1.5 * IQR\n",
        "\n",
        "# Filter out outliers\n",
        "df_no_outliers = df[(df['km_driven'] >= lower_bound) & (df['km_driven'] <= upper_bound)]\n",
        "\n",
        "# Display result\n",
        "print(f\"Original dataset size: {len(df)}\")\n",
        "print(f\"After removing outliers: {len(df_no_outliers)}\")\n"
      ],
      "metadata": {
        "colab": {
          "base_uri": "https://localhost:8080/"
        },
        "id": "3FE_o39t0_jd",
        "outputId": "d15f990e-ab84-4a24-b8c2-980a13007262"
      },
      "execution_count": 22,
      "outputs": [
        {
          "output_type": "stream",
          "name": "stdout",
          "text": [
            "Original dataset size: 1061\n",
            "After removing outliers: 1022\n"
          ]
        }
      ]
    },
    {
      "cell_type": "code",
      "source": [
        "#Qns-12  Perform a bivariate analysis to visualize the relationship between year and selling_price?\n",
        "#Ans\n",
        "\n",
        "import pandas as pd\n",
        "import matplotlib.pyplot as plt\n",
        "import seaborn as sns\n",
        "\n",
        "# Load the dataset\n",
        "df = pd.read_csv(\"BIKE DETAILS.csv\")\n",
        "\n",
        "# Optional: filter extreme outliers for better visualization\n",
        "df_filtered = df[df['selling_price'] < df['selling_price'].quantile(0.99)]\n",
        "\n",
        "# Set plot style\n",
        "sns.set(style=\"whitegrid\")\n",
        "\n",
        "# Create the plot\n",
        "plt.figure(figsize=(12, 6))\n",
        "sns.boxplot(data=df_filtered, x='year', y='selling_price')\n",
        "plt.xticks(rotation=45)\n",
        "plt.title('Selling Price vs. Year of Manufacture')\n",
        "plt.xlabel('Year')\n",
        "plt.ylabel('Selling Price (₹)')\n",
        "plt.tight_layout()\n",
        "plt.show()\n"
      ],
      "metadata": {
        "colab": {
          "base_uri": "https://localhost:8080/",
          "height": 601
        },
        "id": "2mVVc3rz1J7y",
        "outputId": "5570674b-7c3b-48f8-bede-8e5744f9c717"
      },
      "execution_count": 23,
      "outputs": [
        {
          "output_type": "display_data",
          "data": {
            "text/plain": [
              "<Figure size 1200x600 with 1 Axes>"
            ],
            "image/png": "[encoded data removed]"
          },
          "metadata": {}
        }
      ]
    },
    {
      "cell_type": "markdown",
      "source": [
        "Qns-13 What is the average depreciation in selling price based on the bike's age (current year - manufacturing\n",
        "year)?"
      ],
      "metadata": {
        "id": "ghrvc7b11frz"
      }
    },
    {
      "cell_type": "code",
      "source": [
        "#Ans\n",
        "\n",
        "import pandas as pd\n",
        "\n",
        "# Set display options for better readability\n",
        "pd.set_option('display.max_rows', None)\n",
        "pd.set_option('display.max_columns', None)\n",
        "\n",
        "# Read the CSV file into a DataFrame\n",
        "df = pd.read_csv('BIKE DETAILS.csv')\n",
        "\n",
        "# Calculate bike_age based on the current year (2025)\n",
        "df['bike_age'] = 2025 - df['year']\n",
        "\n",
        "# Calculate depreciation\n",
        "df['depreciation'] = df['ex_showroom_price'] - df['selling_price']\n",
        "\n",
        "# Calculate the average depreciation for each bike_age\n",
        "average_depreciation = df.groupby('bike_age')['depreciation'].mean().reset_index()\n",
        "\n",
        "# Sort the results by bike_age\n",
        "average_depreciation = average_depreciation.sort_values(by='bike_age')\n",
        "\n",
        "# Display the average depreciation\n",
        "print(average_depreciation.to_markdown(index=False, numalign=\"left\", stralign=\"left\"))"
      ],
      "metadata": {
        "colab": {
          "base_uri": "https://localhost:8080/"
        },
        "id": "9WwAg9kS2P0S",
        "outputId": "ad6a278e-98a9-498a-881f-9498c1455f1d"
      },
      "execution_count": 24,
      "outputs": [
        {
          "output_type": "stream",
          "name": "stdout",
          "text": [
            "| bike_age   | depreciation   |\n",
            "|:-----------|:---------------|\n",
            "| 5          | -34260         |\n",
            "| 6          | 2954.56        |\n",
            "| 7          | 13023.2        |\n",
            "| 8          | 22306.1        |\n",
            "| 9          | 28328.2        |\n",
            "| 10         | 28013.3        |\n",
            "| 11         | 34505.6        |\n",
            "| 12         | 43086.9        |\n",
            "| 13         | 37317.6        |\n",
            "| 14         | 47102.7        |\n",
            "| 15         | 45658.9        |\n",
            "| 16         | 38227.8        |\n",
            "| 17         | 54732.4        |\n",
            "| 18         | 42399          |\n",
            "| 19         | 39664.5        |\n",
            "| 20         | 44852          |\n",
            "| 21         | 36852          |\n",
            "| 22         | nan            |\n",
            "| 23         | nan            |\n",
            "| 24         | 34852          |\n",
            "| 25         | nan            |\n",
            "| 26         | nan            |\n",
            "| 27         | nan            |\n",
            "| 28         | nan            |\n",
            "| 30         | nan            |\n",
            "| 32         | nan            |\n",
            "| 34         | nan            |\n",
            "| 37         | nan            |\n"
          ]
        }
      ]
    },
    {
      "cell_type": "markdown",
      "source": [
        "Qns-14  Which bike names are priced significantly above the average price for their manufacturing year?"
      ],
      "metadata": {
        "id": "_p5VaszZ2Vzl"
      }
    },
    {
      "cell_type": "code",
      "source": [
        "#Ans\n",
        "\n",
        "# Calculate the average selling price and standard deviation for each year\n",
        "yearly_stats = df.groupby('year')['selling_price'].agg(['mean', 'std']).reset_index()\n",
        "yearly_stats.rename(columns={'mean': 'avg_selling_price_year', 'std': 'std_selling_price_year'}, inplace=True)\n",
        "\n",
        "# Merge the yearly stats back into the original DataFrame\n",
        "df = pd.merge(df, yearly_stats, on='year', how='left')\n",
        "\n",
        "threshold_std = 1.5\n",
        "\n",
        "# Identify bikes priced significantly above the average for their manufacturing year\n",
        "# Considering 1.5 standard deviations above the mean\n",
        "significantly_above_average = df[df['selling_price'] > (df['avg_selling_price_year'] + threshold_std * df['std_selling_price_year'])]\n",
        "\n",
        "# Select and display the relevant columns\n",
        "result = significantly_above_average[['name', 'selling_price', 'year', 'avg_selling_price_year', 'std_selling_price_year']]\n",
        "\n",
        "print(\"Bikes priced significantly above the average for their manufacturing year:\")\n",
        "print(result.to_markdown(index=False, numalign=\"left\", stralign=\"left\"))"
      ],
      "metadata": {
        "colab": {
          "base_uri": "https://localhost:8080/"
        },
        "id": "cEnQhA5d2XYo",
        "outputId": "59865f93-ccea-4c0c-dc72-1ec53bd83a81"
      },
      "execution_count": 25,
      "outputs": [
        {
          "output_type": "stream",
          "name": "stdout",
          "text": [
            "Bikes priced significantly above the average for their manufacturing year:\n",
            "| name                                       | selling_price   | year   | avg_selling_price_year   | std_selling_price_year   |\n",
            "|:-------------------------------------------|:----------------|:-------|:-------------------------|:-------------------------|\n",
            "| Royal Enfield Bullet 350 [2007-2011]       | 180000          | 2008   | 34289.3                  | 35197.3                  |\n",
            "| Yamaha YZF R3                              | 365000          | 2019   | 119690                   | 96703.4                  |\n",
            "| Honda CBR-250R                             | 120000          | 2016   | 58469                    | 36006.2                  |\n",
            "| KTM 390 Duke                               | 175000          | 2017   | 78894.7                  | 50627.9                  |\n",
            "| Royal Enfield Electra 5 S                  | 90000           | 2010   | 31793.3                  | 19387.3                  |\n",
            "| Royal Enfield Electra 4 S                  | 90000           | 2008   | 34289.3                  | 35197.3                  |\n",
            "| Mahindra Mojo XT300                        | 165000          | 2017   | 78894.7                  | 50627.9                  |\n",
            "| Royal Enfield Thunderbird 350X             | 160000          | 2018   | 87660.4                  | 46394.5                  |\n",
            "| UM Renegade Commando                       | 160000          | 2018   | 87660.4                  | 46394.5                  |\n",
            "| Royal Enfield Continental GT 650           | 299000          | 2019   | 119690                   | 96703.4                  |\n",
            "| Harley-Davidson Street Bob                 | 750000          | 2013   | 51137                    | 85138.2                  |\n",
            "| KTM 390 Duke ABS [2013-2016]               | 130000          | 2015   | 56500                    | 35627.3                  |\n",
            "| KTM RC 390                                 | 180000          | 2017   | 78894.7                  | 50627.9                  |\n",
            "| KTM 390 Duke                               | 170000          | 2017   | 78894.7                  | 50627.9                  |\n",
            "| Royal Enfield Bullet 350                   | 123000          | 2016   | 58469                    | 36006.2                  |\n",
            "| Royal Enfield Classic Desert Storm         | 100000          | 2012   | 35748.4                  | 19431.2                  |\n",
            "| Royal Enfield Classic 350                  | 170000          | 2018   | 87660.4                  | 46394.5                  |\n",
            "| Royal Enfield Electra 5 S                  | 60000           | 2007   | 24927.6                  | 17637.1                  |\n",
            "| Royal Enfield Bullet 500                   | 130000          | 2015   | 56500                    | 35627.3                  |\n",
            "| Bajaj Dominar 400 [2018]                   | 170000          | 2018   | 87660.4                  | 46394.5                  |\n",
            "| Royal Enfield Bullet 350 [2007-2011]       | 90000           | 2007   | 24927.6                  | 17637.1                  |\n",
            "| KTM RC 390                                 | 210000          | 2017   | 78894.7                  | 50627.9                  |\n",
            "| Royal Enfield Thunderbird 350              | 160000          | 2018   | 87660.4                  | 46394.5                  |\n",
            "| Royal Enfield Classic Desert Storm         | 130000          | 2015   | 56500                    | 35627.3                  |\n",
            "| KTM RC 390                                 | 270000          | 2019   | 119690                   | 96703.4                  |\n",
            "| Kawasaki Ninja 650 [2018-2019]             | 425000          | 2017   | 78894.7                  | 50627.9                  |\n",
            "| Kawasaki Ninja 250R                        | 125000          | 2010   | 31793.3                  | 19387.3                  |\n",
            "| Suzuki GSX S750                            | 760000          | 2019   | 119690                   | 96703.4                  |\n",
            "| Yamaha Rx                                  | 70000           | 2000   | 20833.3                  | 24169.5                  |\n",
            "| Harley-Davidson Street 750                 | 330000          | 2014   | 48668.1                  | 36973.1                  |\n",
            "| Royal Enfield Classic 350                  | 162000          | 2018   | 87660.4                  | 46394.5                  |\n",
            "| Royal Enfield Interceptor 650              | 285000          | 2019   | 119690                   | 96703.4                  |\n",
            "| Royal Enfield Classic 350                  | 160000          | 2018   | 87660.4                  | 46394.5                  |\n",
            "| KTM RC 200                                 | 120000          | 2015   | 56500                    | 35627.3                  |\n",
            "| BMW G310GS                                 | 300000          | 2018   | 87660.4                  | 46394.5                  |\n",
            "| Royal Enfield Thunderbird 350              | 87000           | 2012   | 35748.4                  | 19431.2                  |\n",
            "| Royal Enfield Thunderbird 350X             | 160000          | 2018   | 87660.4                  | 46394.5                  |\n",
            "| Royal Enfield Thunderbird 500              | 125000          | 2014   | 48668.1                  | 36973.1                  |\n",
            "| Royal Enfield Classic 350                  | 140000          | 2016   | 58469                    | 36006.2                  |\n",
            "| Royal Enfield Thunderbird 350              | 85000           | 2010   | 31793.3                  | 19387.3                  |\n",
            "| Royal Enfield Classic Stealth Black        | 160000          | 2018   | 87660.4                  | 46394.5                  |\n",
            "| Royal Enfield Interceptor 650              | 270000          | 2019   | 119690                   | 96703.4                  |\n",
            "| Royal Enfield Thunderbird 350              | 60000           | 2006   | 23380                    | 20824.2                  |\n",
            "| KTM 390 Duke ABS [2013-2016]               | 180000          | 2015   | 56500                    | 35627.3                  |\n",
            "| Royal Enfield Thunderbird 350              | 120000          | 2016   | 58469                    | 36006.2                  |\n",
            "| Royal Enfield Classic Chrome               | 135000          | 2015   | 56500                    | 35627.3                  |\n",
            "| Royal Enfield Bullet 350                   | 110000          | 2015   | 56500                    | 35627.3                  |\n",
            "| Honda CBR-250R                             | 100000          | 2011   | 35655.7                  | 37992.1                  |\n",
            "| Royal Enfield Classic Signals              | 195000          | 2018   | 87660.4                  | 46394.5                  |\n",
            "| Royal Enfield Classic Desert Storm         | 150000          | 2015   | 56500                    | 35627.3                  |\n",
            "| Bajaj Pulsar 180                           | 35000           | 2009   | 22267.9                  | 8009.81                  |\n",
            "| Bajaj Avenger [2015]                       | 65000           | 2010   | 31793.3                  | 19387.3                  |\n",
            "| KTM 200 Duke                               | 130000          | 2016   | 58469                    | 36006.2                  |\n",
            "| Royal Enfield Thunderbird 350              | 135000          | 2016   | 58469                    | 36006.2                  |\n",
            "| Royal Enfield Electra 5 S                  | 99000           | 2006   | 23380                    | 20824.2                  |\n",
            "| Royal Enfield Electra Twinspark            | 120000          | 2016   | 58469                    | 36006.2                  |\n",
            "| Royal Enfield Thunderbird 350              | 100000          | 2012   | 35748.4                  | 19431.2                  |\n",
            "| Royal Enfield Himalayan                    | 119000          | 2016   | 58469                    | 36006.2                  |\n",
            "| Kawasaki Ninja 650 [2018-2019]             | 300000          | 2011   | 35655.7                  | 37992.1                  |\n",
            "| Benelli TNT 25                             | 160000          | 2017   | 78894.7                  | 50627.9                  |\n",
            "| Royal Enfield Thunderbird 500X             | 185000          | 2018   | 87660.4                  | 46394.5                  |\n",
            "| Royal Enfield Continental GT [2013 - 2018] | 110000          | 2014   | 48668.1                  | 36973.1                  |\n",
            "| Royal Enfield Classic Gunmetal Grey        | 180000          | 2018   | 87660.4                  | 46394.5                  |\n",
            "| Royal Enfield Thunderbird 350              | 120000          | 2015   | 56500                    | 35627.3                  |\n",
            "| Royal Enfield Thunderbird 350              | 59000           | 2005   | 16978.6                  | 12804.1                  |\n",
            "| Royal Enfield Classic Chrome               | 185000          | 2015   | 56500                    | 35627.3                  |\n",
            "| KTM 390 Duke                               | 205000          | 2018   | 87660.4                  | 46394.5                  |\n",
            "| Kawasaki Ninja 300                         | 300000          | 2016   | 58469                    | 36006.2                  |\n",
            "| Bajaj Pulsar 150                           | 35000           | 2009   | 22267.9                  | 8009.81                  |\n",
            "| Royal Enfield Electra 5 S                  | 99000           | 2012   | 35748.4                  | 19431.2                  |\n",
            "| Royal Enfield Electra 5 S                  | 90000           | 2012   | 35748.4                  | 19431.2                  |\n",
            "| Hero Honda CBZ extreme                     | 40000           | 2009   | 22267.9                  | 8009.81                  |\n",
            "| Royal Enfield Thunder 500                  | 175000          | 2018   | 87660.4                  | 46394.5                  |\n",
            "| Hyosung GT250R                             | 135000          | 2016   | 58469                    | 36006.2                  |\n",
            "| Royal Enfield Thunder 350                  | 125000          | 2015   | 56500                    | 35627.3                  |\n",
            "| KTM 390 Duke                               | 115000          | 2016   | 58469                    | 36006.2                  |\n",
            "| Royal Enfield Classic 350                  | 110000          | 2015   | 56500                    | 35627.3                  |\n"
          ]
        }
      ]
    },
    {
      "cell_type": "markdown",
      "source": [
        "Qns-15 Develop a correlation matrix for numeric columns and visualize it using a heatmap?"
      ],
      "metadata": {
        "id": "VqVVvZ-421zV"
      }
    },
    {
      "cell_type": "code",
      "source": [
        "#Ans\n",
        "import seaborn as sns\n",
        "import matplotlib.pyplot as plt\n",
        "\n",
        "# Select only numeric columns for correlation matrix\n",
        "numeric_df = df.select_dtypes(include=['number'])\n",
        "\n",
        "# Calculate the correlation matrix\n",
        "correlation_matrix = numeric_df.corr()\n",
        "\n",
        "# Create a heatmap\n",
        "plt.figure(figsize=(10, 8))\n",
        "sns.heatmap(correlation_matrix, annot=True, cmap='coolwarm', fmt=\".2f\")\n",
        "plt.title('Correlation Matrix of Numeric Columns')\n",
        "plt.show()"
      ],
      "metadata": {
        "colab": {
          "base_uri": "https://localhost:8080/",
          "height": 861
        },
        "id": "H7kl0VOx23ZE",
        "outputId": "75465606-6591-49c9-ec86-7066d0ee46c2"
      },
      "execution_count": 26,
      "outputs": [
        {
          "output_type": "display_data",
          "data": {
            "text/plain": [
              "<Figure size 1000x800 with 2 Axes>"
            ],
            "image/png": "[encoded data removed]"
          },
          "metadata": {}
        }
      ]
    },
    {
      "cell_type": "markdown",
      "source": [
        "**EDA 2- CAR SALES DATASET**"
      ],
      "metadata": {
        "id": "zJQPmp-j4HcI"
      }
    },
    {
      "cell_type": "markdown",
      "source": [
        "Qns-1 What is the average selling price of cars for each dealer, and how does it compare across different dealers?"
      ],
      "metadata": {
        "id": "av8Xhl_84VKh"
      }
    },
    {
      "cell_type": "code",
      "source": [
        "#Ans\n",
        "from google.colab import files\n",
        "uploaded = files.upload()\n",
        "\n",
        "import pandas as pd\n",
        "\n",
        "# Load the CSV file\n",
        "df = pd.read_csv('Car Sale.csv')\n",
        " #Display the first few rows and column information to understand the dataset\n",
        "print(df.head().to_markdown(index=False, numalign=\"left\", stralign=\"left\"))"
      ],
      "metadata": {
        "colab": {
          "base_uri": "https://localhost:8080/",
          "height": 214
        },
        "id": "Ac0cg59j4a5t",
        "outputId": "f8f5d391-823c-4851-f87d-f753f6175e5a"
      },
      "execution_count": 30,
      "outputs": [
        {
          "output_type": "display_data",
          "data": {
            "text/plain": [
              "<IPython.core.display.HTML object>"
            ],
            "text/html": [
              "\n",
              "     <input type=\"file\" id=\"files-ca146e43-d5f9-4eff-90dc-a2f7e5b5b3af\" name=\"files[]\" multiple disabled\n",
              "        style=\"border:none\" />\n",
              "     <output id=\"result-ca146e43-d5f9-4eff-90dc-a2f7e5b5b3af\">\n",
              "      Upload widget is only available when the cell has been executed in the\n",
              "      current browser session. Please rerun this cell to enable.\n",
              "      </output>\n",
              "      <script>// Copyright 2017 Google LLC\n",
              "//\n",
              "// Licensed under the Apache License, Version 2.0 (the \"License\");\n",
              "// you may not use this file except in compliance with the License.\n",
              "// You may obtain a copy of the License at\n",
              "//\n",
              "//      http://www.apache.org/licenses/LICENSE-2.0\n",
              "//\n",
              "// Unless required by applicable law or agreed to in writing, software\n",
              "// distributed under the License is distributed on an \"AS IS\" BASIS,\n",
              "// WITHOUT WARRANTIES OR CONDITIONS OF ANY KIND, either express or implied.\n",
              "// See the License for the specific language governing permissions and\n",
              "// limitations under the License.\n",
              "\n",
              "/**\n",
              " * @fileoverview Helpers for google.colab Python module.\n",
              " */\n",
              "(function(scope) {\n",
              "function span(text, styleAttributes = {}) {\n",
              "  const element = document.createElement('span');\n",
              "  element.textContent = text;\n",
              "  for (const key of Object.keys(styleAttributes)) {\n",
              "    element.style[key] = styleAttributes[key];\n",
              "  }\n",
              "  return element;\n",
              "}\n",
              "\n",
              "// Max number of bytes which will be uploaded at a time.\n",
              "const MAX_PAYLOAD_SIZE = 100 * 1024;\n",
              "\n",
              "function _uploadFiles(inputId, outputId) {\n",
              "  const steps = uploadFilesStep(inputId, outputId);\n",
              "  const outputElement = document.getElementById(outputId);\n",
              "  // Cache steps on the outputElement to make it available for the next call\n",
              "  // to uploadFilesContinue from Python.\n",
              "  outputElement.steps = steps;\n",
              "\n",
              "  return _uploadFilesContinue(outputId);\n",
              "}\n",
              "\n",
              "// This is roughly an async generator (not supported in the browser yet),\n",
              "// where there are multiple asynchronous steps and the Python side is going\n",
              "// to poll for completion of each step.\n",
              "// This uses a Promise to block the python side on completion of each step,\n",
              "// then passes the result of the previous step as the input to the next step.\n",
              "function _uploadFilesContinue(outputId) {\n",
              "  const outputElement = document.getElementById(outputId);\n",
              "  const steps = outputElement.steps;\n",
              "\n",
              "  const next = steps.next(outputElement.lastPromiseValue);\n",
              "  return Promise.resolve(next.value.promise).then((value) => {\n",
              "    // Cache the last promise value to make it available to the next\n",
              "    // step of the generator.\n",
              "    outputElement.lastPromiseValue = value;\n",
              "    return next.value.response;\n",
              "  });\n",
              "}\n",
              "\n",
              "/**\n",
              " * Generator function which is called between each async step of the upload\n",
              " * process.\n",
              " * @param {string} inputId Element ID of the input file picker element.\n",
              " * @param {string} outputId Element ID of the output display.\n",
              " * @return {!Iterable<!Object>} Iterable of next steps.\n",
              " */\n",
              "function* uploadFilesStep(inputId, outputId) {\n",
              "  const inputElement = document.getElementById(inputId);\n",
              "  inputElement.disabled = false;\n",
              "\n",
              "  const outputElement = document.getElementById(outputId);\n",
              "  outputElement.innerHTML = '';\n",
              "\n",
              "  const pickedPromise = new Promise((resolve) => {\n",
              "    inputElement.addEventListener('change', (e) => {\n",
              "      resolve(e.target.files);\n",
              "    });\n",
              "  });\n",
              "\n",
              "  const cancel = document.createElement('button');\n",
              "  inputElement.parentElement.appendChild(cancel);\n",
              "  cancel.textContent = 'Cancel upload';\n",
              "  const cancelPromise = new Promise((resolve) => {\n",
              "    cancel.onclick = () => {\n",
              "      resolve(null);\n",
              "    };\n",
              "  });\n",
              "\n",
              "  // Wait for the user to pick the files.\n",
              "  const files = yield {\n",
              "    promise: Promise.race([pickedPromise, cancelPromise]),\n",
              "    response: {\n",
              "      action: 'starting',\n",
              "    }\n",
              "  };\n",
              "\n",
              "  cancel.remove();\n",
              "\n",
              "  // Disable the input element since further picks are not allowed.\n",
              "  inputElement.disabled = true;\n",
              "\n",
              "  if (!files) {\n",
              "    return {\n",
              "      response: {\n",
              "        action: 'complete',\n",
              "      }\n",
              "    };\n",
              "  }\n",
              "\n",
              "  for (const file of files) {\n",
              "    const li = document.createElement('li');\n",
              "    li.append(span(file.name, {fontWeight: 'bold'}));\n",
              "    li.append(span(\n",
              "        `(${file.type || 'n/a'}) - ${file.size} bytes, ` +\n",
              "        `last modified: ${\n",
              "            file.lastModifiedDate ? file.lastModifiedDate.toLocaleDateString() :\n",
              "                                    'n/a'} - `));\n",
              "    const percent = span('0% done');\n",
              "    li.appendChild(percent);\n",
              "\n",
              "    outputElement.appendChild(li);\n",
              "\n",
              "    const fileDataPromise = new Promise((resolve) => {\n",
              "      const reader = new FileReader();\n",
              "      reader.onload = (e) => {\n",
              "        resolve(e.target.result);\n",
              "      };\n",
              "      reader.readAsArrayBuffer(file);\n",
              "    });\n",
              "    // Wait for the data to be ready.\n",
              "    let fileData = yield {\n",
              "      promise: fileDataPromise,\n",
              "      response: {\n",
              "        action: 'continue',\n",
              "      }\n",
              "    };\n",
              "\n",
              "    // Use a chunked sending to avoid message size limits. See b/62115660.\n",
              "    let position = 0;\n",
              "    do {\n",
              "      const length = Math.min(fileData.byteLength - position, MAX_PAYLOAD_SIZE);\n",
              "      const chunk = new Uint8Array(fileData, position, length);\n",
              "      position += length;\n",
              "\n",
              "      const base64 = btoa(String.fromCharCode.apply(null, chunk));\n",
              "      yield {\n",
              "        response: {\n",
              "          action: 'append',\n",
              "          file: file.name,\n",
              "          data: base64,\n",
              "        },\n",
              "      };\n",
              "\n",
              "      let percentDone = fileData.byteLength === 0 ?\n",
              "          100 :\n",
              "          Math.round((position / fileData.byteLength) * 100);\n",
              "      percent.textContent = `${percentDone}% done`;\n",
              "\n",
              "    } while (position < fileData.byteLength);\n",
              "  }\n",
              "\n",
              "  // All done.\n",
              "  yield {\n",
              "    response: {\n",
              "      action: 'complete',\n",
              "    }\n",
              "  };\n",
              "}\n",
              "\n",
              "scope.google = scope.google || {};\n",
              "scope.google.colab = scope.google.colab || {};\n",
              "scope.google.colab._files = {\n",
              "  _uploadFiles,\n",
              "  _uploadFilesContinue,\n",
              "};\n",
              "})(self);\n",
              "</script> "
            ]
          },
          "metadata": {}
        },
        {
          "output_type": "stream",
          "name": "stdout",
          "text": [
            "Saving Car Sale.csv to Car Sale (2).csv\n",
            "| Car_id       | Date     | Customer Name   | Gender   | Annual Income   | Dealer_Name                         | Company   | Model      | Engine                    | Transmission   | Color      | Price ($)   | Dealer_No    | Body Style   | Phone   | Dealer_Region   |\n",
            "|:-------------|:---------|:----------------|:---------|:----------------|:------------------------------------|:----------|:-----------|:--------------------------|:---------------|:-----------|:------------|:-------------|:-------------|:--------|:----------------|\n",
            "| C_CND_000001 | 1/2/2022 | Geraldine       | Male     | 13500           | Buddy Storbeck's Diesel Service Inc | Ford      | Expedition | DoubleÂ Overhead Camshaft | Auto           | Black      | 26000       | 06457-3834   | SUV          | 8264678 | Middletown      |\n",
            "| C_CND_000002 | 1/2/2022 | Gia             | Male     | 1480000         | C & M Motors Inc                    | Dodge     | Durango    | DoubleÂ Overhead Camshaft | Auto           | Black      | 19000       | 60504-7114   | SUV          | 6848189 | Aurora          |\n",
            "| C_CND_000003 | 1/2/2022 | Gianna          | Male     | 1035000         | Capitol KIA                         | Cadillac  | Eldorado   | Overhead Camshaft         | Manual         | Red        | 31500       | 38701-8047   | Passenger    | 7298798 | Greenville      |\n",
            "| C_CND_000004 | 1/2/2022 | Giselle         | Male     | 13500           | Chrysler of Tri-Cities              | Toyota    | Celica     | Overhead Camshaft         | Manual         | Pale White | 14000       | 99301-3882   | SUV          | 6257557 | Pasco           |\n",
            "| C_CND_000005 | 1/2/2022 | Grace           | Male     | 1465000         | Chrysler Plymouth                   | Acura     | TL         | DoubleÂ Overhead Camshaft | Auto           | Red        | 24500       | 53546-9427   | Hatchback    | 7081483 | Janesville      |\n"
          ]
        }
      ]
    },
    {
      "cell_type": "markdown",
      "source": [
        "Qns-2 Which car brand (Company) has the highest variation in prices, and what does this tell us about the pricing\n",
        "trends?"
      ],
      "metadata": {
        "id": "hygFHFa35wGG"
      }
    },
    {
      "cell_type": "code",
      "source": [
        "#Ans\n",
        "# Group by 'Company' and calculate the standard deviation of 'Price ($)'\n",
        "price_variation_by_company = df.groupby('Company')['Price ($)'].std().reset_index()\n",
        "\n",
        "# Rename the column for clarity\n",
        "price_variation_by_company.rename(columns={'Price ($)': 'Price_Standard_Deviation'}, inplace=True)\n",
        "\n",
        "# Sort the results by standard deviation in descending order to find the highest variation\n",
        "highest_variation_company = price_variation_by_company.sort_values(by='Price_Standard_Deviation', ascending=False)\n",
        "\n",
        "# Display the company with the highest variation\n",
        "print(\"Car brand with the highest variation in prices:\")\n",
        "print(highest_variation_company.head(1).to_markdown(index=False, numalign=\"left\", stralign=\"left\"))"
      ],
      "metadata": {
        "colab": {
          "base_uri": "https://localhost:8080/"
        },
        "id": "QoVHwHMF50V7",
        "outputId": "4073ef71-2dae-4be3-c82c-a2c6cb426b89"
      },
      "execution_count": 31,
      "outputs": [
        {
          "output_type": "stream",
          "name": "stdout",
          "text": [
            "Car brand with the highest variation in prices:\n",
            "| Company   | Price_Standard_Deviation   |\n",
            "|:----------|:---------------------------|\n",
            "| Lincoln   | 19658.1                    |\n"
          ]
        }
      ]
    },
    {
      "cell_type": "markdown",
      "source": [
        "Qns-3 What is the distribution of car prices for each transmission type, and how do the interquartile ranges\n",
        "compare?"
      ],
      "metadata": {
        "id": "1c_IHrGZ57Ju"
      }
    },
    {
      "cell_type": "code",
      "source": [
        "#Ans\n",
        "# Group by 'Transmission' and calculate descriptive statistics for 'Price ($)'\n",
        "price_distribution_by_transmission = df.groupby('Transmission')['Price ($)'].describe().reset_index()\n",
        "\n",
        "# Calculate Q1, Q3, and IQR\n",
        "price_distribution_by_transmission['Q1'] = price_distribution_by_transmission['25%']\n",
        "price_distribution_by_transmission['Q3'] = price_distribution_by_transmission['75%']\n",
        "price_distribution_by_transmission['IQR'] = price_distribution_by_transmission['Q3'] - price_distribution_by_transmission['Q1']\n",
        "\n",
        "# Select relevant columns for display\n",
        "display_columns = ['Transmission', 'count', 'mean', 'std', 'min', 'Q1', '50%', 'Q3', 'max', 'IQR']\n",
        "price_distribution_by_transmission = price_distribution_by_transmission[display_columns]\n",
        "\n",
        "# Rename '50%' to 'median' for clarity\n",
        "price_distribution_by_transmission.rename(columns={'50%': 'median'}, inplace=True)\n",
        "\n",
        "# Display the results\n",
        "print(\"Distribution of car prices for each transmission type:\")\n",
        "print(price_distribution_by_transmission.to_markdown(index=False, numalign=\"left\", stralign=\"left\"))"
      ],
      "metadata": {
        "colab": {
          "base_uri": "https://localhost:8080/"
        },
        "id": "mFJzi3iR5-KW",
        "outputId": "09b128b7-4ceb-4ee0-f909-3268889c2fab"
      },
      "execution_count": 32,
      "outputs": [
        {
          "output_type": "stream",
          "name": "stdout",
          "text": [
            "Distribution of car prices for each transmission type:\n",
            "| Transmission   | count   | mean    | std     | min   | Q1    | median   | Q3    | max   | IQR   |\n",
            "|:---------------|:--------|:--------|:--------|:------|:------|:---------|:------|:------|:------|\n",
            "| Auto           | 12571   | 28248.5 | 13747.1 | 1200  | 19000 | 24000    | 35500 | 75700 | 16500 |\n",
            "| Manual         | 11335   | 27914.7 | 15862.9 | 1700  | 17000 | 22001    | 34000 | 85800 | 17000 |\n"
          ]
        }
      ]
    },
    {
      "cell_type": "markdown",
      "source": [
        "Qns-4 What is the distribution of car prices across different regions?"
      ],
      "metadata": {
        "id": "pGtyvox-6I8C"
      }
    },
    {
      "cell_type": "code",
      "source": [
        "#Ans\n",
        "# Group by 'Dealer_Region' and calculate descriptive statistics for 'Price ($)'\n",
        "price_distribution_by_region = df.groupby('Dealer_Region')['Price ($)'].describe().reset_index()\n",
        "\n",
        "# Calculate Q1, Q3, and IQR\n",
        "price_distribution_by_region['Q1'] = price_distribution_by_region['25%']\n",
        "price_distribution_by_region['Q3'] = price_distribution_by_region['75%']\n",
        "price_distribution_by_region['IQR'] = price_distribution_by_region['Q3'] - price_distribution_by_region['Q1']\n",
        "\n",
        "# Select relevant columns for display\n",
        "display_columns = ['Dealer_Region', 'count', 'mean', 'std', 'min', 'Q1', '50%', 'Q3', 'max', 'IQR']\n",
        "price_distribution_by_region = price_distribution_by_region[display_columns]\n",
        "\n",
        "# Rename '50%' to 'median' for clarity\n",
        "price_distribution_by_region.rename(columns={'50%': 'median'}, inplace=True)\n",
        "\n",
        "# Display the results\n",
        "print(\"Distribution of car prices across different regions:\")\n",
        "print(price_distribution_by_region.to_markdown(index=False, numalign=\"left\", stralign=\"left\"))"
      ],
      "metadata": {
        "colab": {
          "base_uri": "https://localhost:8080/"
        },
        "id": "e5upZnmp6NEQ",
        "outputId": "c0db7e5f-d9b8-40d3-912b-02f445e40aba"
      },
      "execution_count": 33,
      "outputs": [
        {
          "output_type": "stream",
          "name": "stdout",
          "text": [
            "Distribution of car prices across different regions:\n",
            "| Dealer_Region   | count   | mean    | std     | min   | Q1      | median   | Q3    | max   | IQR     |\n",
            "|:----------------|:--------|:--------|:--------|:------|:--------|:---------|:------|:------|:--------|\n",
            "| Aurora          | 3130    | 28334.6 | 15026.2 | 9000  | 18001   | 23000    | 35000 | 85800 | 16999   |\n",
            "| Austin          | 4135    | 28341.6 | 14903.9 | 9000  | 18001   | 23801    | 35001 | 85601 | 17000   |\n",
            "| Greenville      | 3128    | 28180.8 | 15101.5 | 1200  | 18001   | 22500    | 34500 | 85200 | 16499   |\n",
            "| Janesville      | 3821    | 27833.4 | 14345   | 4300  | 18001   | 23000    | 34000 | 85400 | 15999   |\n",
            "| Middletown      | 3128    | 27856.3 | 14619.8 | 1700  | 18000   | 22750    | 34000 | 85300 | 16000   |\n",
            "| Pasco           | 3131    | 28119   | 14659.3 | 9000  | 18500.5 | 23000    | 34000 | 85600 | 15499.5 |\n",
            "| Scottsdale      | 3433    | 27955   | 14902.9 | 1450  | 18000   | 22600    | 33500 | 85001 | 15500   |\n"
          ]
        }
      ]
    },
    {
      "cell_type": "markdown",
      "source": [
        "Qns-5 What is the distribution of cars based on body styles?"
      ],
      "metadata": {
        "id": "J-7XNzY66ZoF"
      }
    },
    {
      "cell_type": "code",
      "source": [
        "#Ans\n",
        "# Calculate the count of each 'Body Style'\n",
        "body_style_distribution = df['Body Style'].value_counts().reset_index()\n",
        "body_style_distribution.columns = ['Body_Style', 'Count']\n",
        "\n",
        "# Calculate the percentage of each 'Body Style'\n",
        "body_style_distribution['Percentage'] = (body_style_distribution['Count'] / len(df)) * 100\n",
        "\n",
        "# Sort the results by count in descending order\n",
        "body_style_distribution = body_style_distribution.sort_values(by='Count', ascending=False)\n",
        "\n",
        "# Display the distribution\n",
        "print(\"Distribution of cars based on Body Styles:\")\n",
        "print(body_style_distribution.to_markdown(index=False, numalign=\"left\", stralign=\"left\"))"
      ],
      "metadata": {
        "colab": {
          "base_uri": "https://localhost:8080/"
        },
        "id": "HFRuAK626dlz",
        "outputId": "69962cad-219a-4bce-b908-a7e511e2b4a4"
      },
      "execution_count": 34,
      "outputs": [
        {
          "output_type": "stream",
          "name": "stdout",
          "text": [
            "Distribution of cars based on Body Styles:\n",
            "| Body_Style   | Count   | Percentage   |\n",
            "|:-------------|:--------|:-------------|\n",
            "| SUV          | 6374    | 26.6628      |\n",
            "| Hatchback    | 6128    | 25.6337      |\n",
            "| Sedan        | 4488    | 18.7735      |\n",
            "| Passenger    | 3945    | 16.5021      |\n",
            "| Hardtop      | 2971    | 12.4278      |\n"
          ]
        }
      ]
    },
    {
      "cell_type": "markdown",
      "source": [
        "Qns-6 How does the average selling price of cars vary by customer gender and annual income"
      ],
      "metadata": {
        "id": "XL1rYwI86iGQ"
      }
    },
    {
      "cell_type": "code",
      "source": [
        "#Ans\n",
        "# Part 1: Average selling price by Gender\n",
        "average_price_by_gender = df.groupby('Gender')['Price ($)'].mean().reset_index()\n",
        "print(\"Average selling price of cars by Customer Gender:\")\n",
        "print(average_price_by_gender.to_markdown(index=False, numalign=\"left\", stralign=\"left\"))\n",
        "\n",
        "# Part 2: Average selling price by Annual Income (using bins)\n",
        "# Define income bins and labels\n",
        "income_bins = [0, 500000, 1000000, 1500000, df['Annual Income'].max()]\n",
        "income_labels = ['0-500K', '500K-1M', '1M-1.5M', '>1.5M']\n",
        "df['Income_Group'] = pd.cut(df['Annual Income'], bins=income_bins, labels=income_labels, right=False)\n",
        "\n",
        "# Calculate the average selling price for each income group\n",
        "average_price_by_income = df.groupby('Income_Group')['Price ($)'].mean().reset_index()\n",
        "print(\"\\nAverage selling price of cars by Annual Income Group:\")\n",
        "print(average_price_by_income.to_markdown(index=False, numalign=\"left\", stralign=\"left\"))"
      ],
      "metadata": {
        "colab": {
          "base_uri": "https://localhost:8080/"
        },
        "id": "1ua1vFAn6lrh",
        "outputId": "f253ce43-0493-425d-ffd4-d56572039892"
      },
      "execution_count": 35,
      "outputs": [
        {
          "output_type": "stream",
          "name": "stdout",
          "text": [
            "Average selling price of cars by Customer Gender:\n",
            "| Gender   | Price ($)   |\n",
            "|:---------|:------------|\n",
            "| Female   | 28277.3     |\n",
            "| Male     | 28039.4     |\n",
            "\n",
            "Average selling price of cars by Annual Income Group:\n",
            "| Income_Group   | Price ($)   |\n",
            "|:---------------|:------------|\n",
            "| 0-500K         | 28063.3     |\n",
            "| 500K-1M        | 27987       |\n",
            "| 1M-1.5M        | 28280       |\n",
            "| >1.5M          | 28177.6     |\n"
          ]
        },
        {
          "output_type": "stream",
          "name": "stderr",
          "text": [
            "<ipython-input-35-d206c87c0643>:14: FutureWarning: The default of observed=False is deprecated and will be changed to True in a future version of pandas. Pass observed=False to retain current behavior or observed=True to adopt the future default and silence this warning.\n",
            "  average_price_by_income = df.groupby('Income_Group')['Price ($)'].mean().reset_index()\n"
          ]
        }
      ]
    },
    {
      "cell_type": "markdown",
      "source": [
        "Qns-7 What is the distribution of car prices by region, and how does the number of cars sold vary by region?"
      ],
      "metadata": {
        "id": "47d-7KHo6sYA"
      }
    },
    {
      "cell_type": "code",
      "source": [
        "#Ans\n",
        "import pandas as pd\n",
        "\n",
        "# Load the 'Car Sale.csv' file\n",
        "df = pd.read_csv('Car Sale.csv')\n",
        "\n",
        "# --- Distribution of car prices across different regions ---\n",
        "print(\"--- Distribution of car prices across different regions ---\")\n",
        "price_distribution_by_region = df.groupby('Dealer_Region')['Price ($)'].describe().reset_index()\n",
        "price_distribution_by_region['Q1'] = price_distribution_by_region['25%']\n",
        "price_distribution_by_region['Q3'] = price_distribution_by_region['75%']\n",
        "price_distribution_by_region['IQR'] = price_distribution_by_region['Q3'] - price_distribution_by_region['Q1']\n",
        "display_columns_region = ['Dealer_Region', 'count', 'mean', 'std', 'min', 'Q1', '50%', 'Q3', 'max', 'IQR']\n",
        "price_distribution_by_region = price_distribution_by_region[display_columns_region]\n",
        "price_distribution_by_region.rename(columns={'50%': 'median'}, inplace=True)\n",
        "print(price_distribution_by_region.to_markdown(index=False, numalign=\"left\", stralign=\"left\"))\n",
        "print(\"\\n\" + \"-\"*30 + \"\\n\")\n",
        "\n",
        "# --- Number of cars sold vary by region ---\n",
        "print(\"--- Number of cars sold by region ---\")\n",
        "cars_sold_by_region = df['Dealer_Region'].value_counts().reset_index()\n",
        "cars_sold_by_region.columns = ['Dealer_Region', 'Count']\n",
        "cars_sold_by_region = cars_sold_by_region.sort_values(by='Count', ascending=False)\n",
        "print(cars_sold_by_region.to_markdown(index=False, numalign=\"left\", stralign=\"left\"))\n",
        "print(\"\\n\" + \"-\"*30 + \"\\n\")"
      ],
      "metadata": {
        "colab": {
          "base_uri": "https://localhost:8080/"
        },
        "id": "o2ojrjo36xwD",
        "outputId": "f05c53ed-7b74-4200-96f6-e377d368fd39"
      },
      "execution_count": 36,
      "outputs": [
        {
          "output_type": "stream",
          "name": "stdout",
          "text": [
            "--- Distribution of car prices across different regions ---\n",
            "| Dealer_Region   | count   | mean    | std     | min   | Q1      | median   | Q3    | max   | IQR     |\n",
            "|:----------------|:--------|:--------|:--------|:------|:--------|:---------|:------|:------|:--------|\n",
            "| Aurora          | 3130    | 28334.6 | 15026.2 | 9000  | 18001   | 23000    | 35000 | 85800 | 16999   |\n",
            "| Austin          | 4135    | 28341.6 | 14903.9 | 9000  | 18001   | 23801    | 35001 | 85601 | 17000   |\n",
            "| Greenville      | 3128    | 28180.8 | 15101.5 | 1200  | 18001   | 22500    | 34500 | 85200 | 16499   |\n",
            "| Janesville      | 3821    | 27833.4 | 14345   | 4300  | 18001   | 23000    | 34000 | 85400 | 15999   |\n",
            "| Middletown      | 3128    | 27856.3 | 14619.8 | 1700  | 18000   | 22750    | 34000 | 85300 | 16000   |\n",
            "| Pasco           | 3131    | 28119   | 14659.3 | 9000  | 18500.5 | 23000    | 34000 | 85600 | 15499.5 |\n",
            "| Scottsdale      | 3433    | 27955   | 14902.9 | 1450  | 18000   | 22600    | 33500 | 85001 | 15500   |\n",
            "\n",
            "------------------------------\n",
            "\n",
            "--- Number of cars sold by region ---\n",
            "| Dealer_Region   | Count   |\n",
            "|:----------------|:--------|\n",
            "| Austin          | 4135    |\n",
            "| Janesville      | 3821    |\n",
            "| Scottsdale      | 3433    |\n",
            "| Pasco           | 3131    |\n",
            "| Aurora          | 3130    |\n",
            "| Greenville      | 3128    |\n",
            "| Middletown      | 3128    |\n",
            "\n",
            "------------------------------\n",
            "\n"
          ]
        }
      ]
    },
    {
      "cell_type": "markdown",
      "source": [
        "Qns-8 How does the average car price differ between cars with different engine sizes"
      ],
      "metadata": {
        "id": "uO_pD4Fl7rBj"
      }
    },
    {
      "cell_type": "code",
      "source": [
        "#Ans\n",
        "# Group by 'Engine' and calculate the average 'Price ($)'\n",
        "average_price_by_engine = df.groupby('Engine')['Price ($)'].mean().reset_index()\n",
        "\n",
        "# Sort the results by average price in descending order\n",
        "average_price_by_engine = average_price_by_engine.sort_values(by='Price ($)', ascending=False)\n",
        "\n",
        "# Display the results\n",
        "print(\"Average car price for each engine size:\")\n",
        "print(average_price_by_engine.to_markdown(index=False, numalign=\"left\", stralign=\"left\"))"
      ],
      "metadata": {
        "colab": {
          "base_uri": "https://localhost:8080/"
        },
        "id": "3d3Q1EoL7vQI",
        "outputId": "d2a2f59d-8474-4f47-a740-14af78a7b07c"
      },
      "execution_count": 37,
      "outputs": [
        {
          "output_type": "stream",
          "name": "stdout",
          "text": [
            "Average car price for each engine size:\n",
            "| Engine                    | Price ($)   |\n",
            "|:--------------------------|:------------|\n",
            "| DoubleÂ Overhead Camshaft | 28248.5     |\n",
            "| Overhead Camshaft         | 27914.7     |\n"
          ]
        }
      ]
    },
    {
      "cell_type": "markdown",
      "source": [
        "Qns-9 How do car prices vary based on the customer’s annual income bracket"
      ],
      "metadata": {
        "id": "vpkJnEt_7y4j"
      }
    },
    {
      "cell_type": "code",
      "source": [
        "#Ans\n",
        "\n",
        "import pandas as pd\n",
        "\n",
        "# Load the 'Car Sale.csv' file\n",
        "df = pd.read_csv('Car Sale.csv')\n",
        "\n",
        "# --- Average selling price of cars by Annual Income Group ---\n",
        "print(\"--- Average selling price of cars by Annual Income Group ---\")\n",
        "# Define income bins and labels\n",
        "income_bins = [0, 500000, 1000000, 1500000, df['Annual Income'].max() + 1] # Added +1 to max to ensure all values are covered\n",
        "income_labels = ['0-500K', '500K-1M', '1M-1.5M', '>1.5M']\n",
        "df['Income_Group'] = pd.cut(df['Annual Income'], bins=income_bins, labels=income_labels, right=False)\n",
        "\n",
        "# Calculate the average selling price for each income group\n",
        "average_price_by_income = df.groupby('Income_Group')['Price ($)'].mean().reset_index()\n",
        "print(average_price_by_income.to_markdown(index=False, numalign=\"left\", stralign=\"left\"))"
      ],
      "metadata": {
        "colab": {
          "base_uri": "https://localhost:8080/"
        },
        "id": "7zJ1H5Ca73Q4",
        "outputId": "f3429b98-7683-4ce0-c494-613e23b80e03"
      },
      "execution_count": 39,
      "outputs": [
        {
          "output_type": "stream",
          "name": "stdout",
          "text": [
            "--- Average selling price of cars by Annual Income Group ---\n",
            "| Income_Group   | Price ($)   |\n",
            "|:---------------|:------------|\n",
            "| 0-500K         | 28063.3     |\n",
            "| 500K-1M        | 27987       |\n",
            "| 1M-1.5M        | 28280       |\n",
            "| >1.5M          | 28176.9     |\n"
          ]
        },
        {
          "output_type": "stream",
          "name": "stderr",
          "text": [
            "<ipython-input-39-63776b36af9b>:16: FutureWarning: The default of observed=False is deprecated and will be changed to True in a future version of pandas. Pass observed=False to retain current behavior or observed=True to adopt the future default and silence this warning.\n",
            "  average_price_by_income = df.groupby('Income_Group')['Price ($)'].mean().reset_index()\n"
          ]
        }
      ]
    },
    {
      "cell_type": "markdown",
      "source": [
        "QnsWhat are the top 5 car models with the highest number of sales, and how does their price distribution look?"
      ],
      "metadata": {
        "id": "UIb4VYKW8L9c"
      }
    },
    {
      "cell_type": "code",
      "source": [
        "#Ans\n",
        "# 1. Identify Top 5 Models by Sales\n",
        "model_sales = df['Model'].value_counts().reset_index()\n",
        "model_sales.columns = ['Model', 'Sales_Count']\n",
        "top_5_models = model_sales.head(5)\n",
        "\n",
        "print(\"Top 5 Car Models with the Highest Number of Sales:\")\n",
        "print(top_5_models.to_markdown(index=False, numalign=\"left\", stralign=\"left\"))\n",
        "print(\"\\n\" + \"-\"*30 + \"\\n\")\n",
        "\n",
        "# 2. Analyze Price Distribution for Top 5 Models\n",
        "# Get the names of the top 5 models\n",
        "top_5_model_names = top_5_models['Model'].tolist()\n",
        "\n",
        "# Filter the original DataFrame for only these top 5 models\n",
        "df_top_5_models = df[df['Model'].isin(top_5_model_names)]\n",
        "\n",
        "# Calculate descriptive statistics for 'Price ($)' for these top models\n",
        "price_distribution_top_models = df_top_5_models.groupby('Model')['Price ($)'].describe().reset_index()\n",
        "\n",
        "# Calculate Q1, Q3, and IQR for each model\n",
        "price_distribution_top_models['Q1'] = price_distribution_top_models['25%']\n",
        "price_distribution_top_models['Q3'] = price_distribution_top_models['75%']\n",
        "price_distribution_top_models['IQR'] = price_distribution_top_models['Q3'] - price_distribution_top_models['Q1']\n",
        "\n",
        "# Select relevant columns for display and rename '50%' to 'median'\n",
        "display_columns_price = ['Model', 'count', 'mean', 'std', 'min', 'Q1', '50%', 'Q3', 'max', 'IQR']\n",
        "price_distribution_top_models = price_distribution_top_models[display_columns_price]\n",
        "price_distribution_top_models.rename(columns={'50%': 'median'}, inplace=True)\n",
        "\n",
        "print(\"Price Distribution for Top 5 Car Models:\")\n",
        "print(price_distribution_top_models.to_markdown(index=False, numalign=\"left\", stralign=\"left\"))"
      ],
      "metadata": {
        "colab": {
          "base_uri": "https://localhost:8080/"
        },
        "id": "uDWTCpTU8QWb",
        "outputId": "5d9d61ff-3f3f-4b75-827e-239391a576de"
      },
      "execution_count": 40,
      "outputs": [
        {
          "output_type": "stream",
          "name": "stdout",
          "text": [
            "Top 5 Car Models with the Highest Number of Sales:\n",
            "| Model      | Sales_Count   |\n",
            "|:-----------|:--------------|\n",
            "| Diamante   | 418           |\n",
            "| Prizm      | 411           |\n",
            "| Silhouette | 411           |\n",
            "| Passat     | 391           |\n",
            "| Ram Pickup | 383           |\n",
            "\n",
            "------------------------------\n",
            "\n",
            "Price Distribution for Top 5 Car Models:\n",
            "| Model      | count   | mean    | std     | min   | Q1    | median   | Q3    | max   | IQR   |\n",
            "|:-----------|:--------|:--------|:--------|:------|:------|:---------|:------|:------|:------|\n",
            "| Diamante   | 418     | 22268.3 | 9770.77 | 12000 | 18000 | 19001    | 22000 | 49801 | 4000  |\n",
            "| Passat     | 391     | 19600.7 | 8218.52 | 9000  | 12001 | 20000    | 27001 | 32501 | 15000 |\n",
            "| Prizm      | 411     | 22838.5 | 8012.53 | 15000 | 16000 | 22000    | 25000 | 44700 | 9000  |\n",
            "| Ram Pickup | 383     | 27820.9 | 13297.6 | 16000 | 19000 | 21000    | 39300 | 57750 | 20300 |\n",
            "| Silhouette | 411     | 29858.5 | 17940.6 | 12000 | 14001 | 25000    | 34500 | 60750 | 20499 |\n"
          ]
        }
      ]
    },
    {
      "cell_type": "markdown",
      "source": [
        "Qns  How does car price vary with engine size across different car colors, and which colors have the highest price\n",
        "variation?"
      ],
      "metadata": {
        "id": "1AcW8Bjn8fhH"
      }
    },
    {
      "cell_type": "code",
      "source": [
        "#Ans\n",
        "# Group by 'Color' and 'Engine' to find the average price for each combination\n",
        "average_price_by_color_engine = df.groupby(['Color', 'Engine'])['Price ($)'].mean().reset_index()\n",
        "\n",
        "# Rename the 'Price ($)' column for clarity\n",
        "average_price_by_color_engine.rename(columns={'Price ($)': 'Average_Price'}, inplace=True)\n",
        "\n",
        "print(\"Average car price by Color and Engine Type:\")\n",
        "print(average_price_by_color_engine.to_markdown(index=False, numalign=\"left\", stralign=\"left\"))\n",
        "print(\"\\n\" + \"-\"*30 + \"\\n\")\n",
        "\n",
        "# Calculate price variation (standard deviation) for each 'Color'\n",
        "price_variation_by_color = df.groupby('Color')['Price ($)'].std().reset_index()\n",
        "\n",
        "# Rename the 'Price ($)' column for clarity\n",
        "price_variation_by_color.rename(columns={'Price ($)': 'Price_Standard_Deviation'}, inplace=True)\n",
        "\n",
        "# Sort by standard deviation in descending order to find colors with highest variation\n",
        "highest_price_variation_colors = price_variation_by_color.sort_values(by='Price_Standard_Deviation', ascending=False)\n",
        "\n",
        "print(\"Colors with the highest price variation (Standard Deviation):\")\n",
        "print(highest_price_variation_colors.to_markdown(index=False, numalign=\"left\", stralign=\"left\"))"
      ],
      "metadata": {
        "colab": {
          "base_uri": "https://localhost:8080/"
        },
        "id": "XyxIANHS8k5C",
        "outputId": "6dd75262-ba12-49cb-c957-dd8b1aa0494a"
      },
      "execution_count": 41,
      "outputs": [
        {
          "output_type": "stream",
          "name": "stdout",
          "text": [
            "Average car price by Color and Engine Type:\n",
            "| Color      | Engine                    | Average_Price   |\n",
            "|:-----------|:--------------------------|:----------------|\n",
            "| Black      | DoubleÂ Overhead Camshaft | 25766.5         |\n",
            "| Black      | Overhead Camshaft         | 31733           |\n",
            "| Pale White | DoubleÂ Overhead Camshaft | 30348           |\n",
            "| Pale White | Overhead Camshaft         | 24327.8         |\n",
            "| Red        | DoubleÂ Overhead Camshaft | 27434.4         |\n",
            "| Red        | Overhead Camshaft         | 30153.4         |\n",
            "\n",
            "------------------------------\n",
            "\n",
            "Colors with the highest price variation (Standard Deviation):\n",
            "| Color      | Price_Standard_Deviation   |\n",
            "|:-----------|:---------------------------|\n",
            "| Red        | 15519.4                    |\n",
            "| Black      | 15286.1                    |\n",
            "| Pale White | 14077.3                    |\n"
          ]
        }
      ]
    },
    {
      "cell_type": "markdown",
      "source": [
        "Qns-12 Is there any seasonal trend in car sales based on the date of sale"
      ],
      "metadata": {
        "id": "o6RVXnkN8rtd"
      }
    },
    {
      "cell_type": "code",
      "source": [
        "#Ans\n",
        "import pandas as pd\n",
        "import matplotlib.pyplot as plt\n",
        "import seaborn as sns\n",
        "\n",
        "# Convert 'Date' column to datetime objects\n",
        "df['Date'] = pd.to_datetime(df['Date'])\n",
        "\n",
        "# Extract month and quarter from the 'Date'\n",
        "df['Month'] = df['Date'].dt.month\n",
        "df['Quarter'] = df['Date'].dt.quarter\n",
        "\n",
        "# Calculate sales by month\n",
        "monthly_sales = df['Month'].value_counts().sort_index().reset_index()\n",
        "monthly_sales.columns = ['Month', 'Sales_Count']\n",
        "\n",
        "\n",
        "\n",
        "print(\"Monthly Sales Trend:\")\n",
        "print(monthly_sales.to_markdown(index=False, numalign=\"left\", stralign=\"left\"))\n",
        "\n",
        "\n",
        "\n",
        "# Visualize monthly sales trend\n",
        "plt.figure(figsize=(10, 6))\n",
        "sns.lineplot(x='Month', y='Sales_Count', data=monthly_sales, marker='o')\n",
        "plt.title('Monthly Car Sales Trend')\n",
        "plt.xlabel('Month')\n",
        "plt.ylabel('Number of Cars Sold')\n",
        "plt.xticks(range(1, 13), ['Jan', 'Feb', 'Mar', 'Apr', 'May', 'Jun', 'Jul', 'Aug', 'Sep', 'Oct', 'Nov', 'Dec'])\n",
        "plt.grid(True)\n",
        "plt.show()\n",
        "\n"
      ],
      "metadata": {
        "colab": {
          "base_uri": "https://localhost:8080/",
          "height": 833
        },
        "id": "j9b0UX5b8tWw",
        "outputId": "816fb4f0-4cdd-4c7a-b1d7-81ab995dda82"
      },
      "execution_count": 42,
      "outputs": [
        {
          "output_type": "stream",
          "name": "stdout",
          "text": [
            "Monthly Sales Trend:\n",
            "| Month   | Sales_Count   |\n",
            "|:--------|:--------------|\n",
            "| 1       | 790           |\n",
            "| 2       | 735           |\n",
            "| 3       | 1535          |\n",
            "| 4       | 1655          |\n",
            "| 5       | 1895          |\n",
            "| 6       | 1715          |\n",
            "| 7       | 1725          |\n",
            "| 8       | 1705          |\n",
            "| 9       | 3305          |\n",
            "| 10      | 1830          |\n",
            "| 11      | 3470          |\n",
            "| 12      | 3546          |\n"
          ]
        },
        {
          "output_type": "display_data",
          "data": {
            "text/plain": [
              "<Figure size 1000x600 with 1 Axes>"
            ],
            "image/png": "[encoded data removed]"
          },
          "metadata": {}
        }
      ]
    },
    {
      "cell_type": "markdown",
      "source": [
        "Qns13- How does the car price distribution change when considering different combinations of body style and\n",
        "transmission type"
      ],
      "metadata": {
        "id": "6vjgttn99fup"
      }
    },
    {
      "cell_type": "code",
      "source": [
        "#Ans\n",
        "# Group by 'Body Style' and 'Transmission' and calculate descriptive statistics for 'Price ($)'\n",
        "price_distribution_by_style_transmission = df.groupby(['Body Style', 'Transmission'])['Price ($)'].describe().reset_index()\n",
        "\n",
        "# Calculate Q1, Q3, and IQR\n",
        "price_distribution_by_style_transmission['Q1'] = price_distribution_by_style_transmission['25%']\n",
        "price_distribution_by_style_transmission['Q3'] = price_distribution_by_style_transmission['75%']\n",
        "price_distribution_by_style_transmission['IQR'] = price_distribution_by_style_transmission['Q3'] - price_distribution_by_style_transmission['Q1']\n",
        "\n",
        "# Select relevant columns for display\n",
        "display_columns = ['Body Style', 'Transmission', 'count', 'mean', 'std', 'min', 'Q1', '50%', 'Q3', 'max', 'IQR']\n",
        "price_distribution_by_style_transmission = price_distribution_by_style_transmission[display_columns]\n",
        "\n",
        "# Rename '50%' to 'median' for clarity\n",
        "price_distribution_by_style_transmission.rename(columns={'50%': 'median'}, inplace=True)\n",
        "\n",
        "# Display the results\n",
        "print(\"Distribution of car prices by Body Style and Transmission Type:\")\n",
        "print(price_distribution_by_style_transmission.to_markdown(index=False, numalign=\"left\", stralign=\"left\"))"
      ],
      "metadata": {
        "colab": {
          "base_uri": "https://localhost:8080/"
        },
        "id": "Z6MZ6XZN9tXU",
        "outputId": "137810bd-6fe9-4a6f-c604-8974a08438a1"
      },
      "execution_count": 43,
      "outputs": [
        {
          "output_type": "stream",
          "name": "stdout",
          "text": [
            "Distribution of car prices by Body Style and Transmission Type:\n",
            "| Body Style   | Transmission   | count   | mean    | std     | min   | Q1      | median   | Q3    | max   | IQR     |\n",
            "|:-------------|:---------------|:--------|:--------|:--------|:------|:--------|:---------|:------|:------|:--------|\n",
            "| Hardtop      | Auto           | 1408    | 31520.2 | 13687.8 | 12000 | 21001   | 27000    | 43125 | 75501 | 22124   |\n",
            "| Hardtop      | Manual         | 1563    | 27016.9 | 14072.5 | 11000 | 17575.5 | 22001    | 29000 | 82500 | 11424.5 |\n",
            "| Hatchback    | Auto           | 3458    | 25910.5 | 13144   | 4200  | 18001   | 21500    | 31000 | 75700 | 12999   |\n",
            "| Hatchback    | Manual         | 2670    | 28702.6 | 16284   | 1700  | 17000   | 23000    | 36001 | 85600 | 19001   |\n",
            "| Passenger    | Auto           | 2020    | 28915.8 | 13946.5 | 9000  | 19000   | 25000    | 38000 | 69801 | 19000   |\n",
            "| Passenger    | Manual         | 1925    | 28969.5 | 18523.7 | 10000 | 16001   | 22000    | 37000 | 85800 | 20999   |\n",
            "| SUV          | Auto           | 3086    | 27501.4 | 13299.9 | 1200  | 19000   | 25000    | 33000 | 75501 | 14000   |\n",
            "| SUV          | Manual         | 3288    | 26079   | 14621.5 | 2200  | 17000   | 22000    | 28000 | 85500 | 11000   |\n",
            "| Sedan        | Auto           | 2599    | 29955.3 | 14310.9 | 12000 | 19000   | 26000    | 39500 | 69980 | 20500   |\n",
            "| Sedan        | Manual         | 1889    | 29664.3 | 15440.1 | 11000 | 19001   | 25000    | 36600 | 69700 | 17599   |\n"
          ]
        }
      ]
    },
    {
      "cell_type": "markdown",
      "source": [
        "Qns-14 What is the correlation between car price, engine size, and annual income of customers, and how do these\n",
        "features interact"
      ],
      "metadata": {
        "id": "-f3WwlHz9xpw"
      }
    },
    {
      "cell_type": "code",
      "source": [
        "# Calculate the Pearson correlation between 'Price ($)' and 'Annual Income'\n",
        "correlation_price_income = df['Price ($)'].corr(df['Annual Income'])\n",
        "\n",
        "print(f\"Correlation between Car Price and Annual Income: {correlation_price_income:.2f}\")\n",
        "print(\"\\n\" + \"-\"*30 + \"\\n\")\n",
        "\n",
        "# Analyze average price by 'Engine' and 'Annual Income' Group\n",
        "# Re-use the Income_Group bins from previous steps\n",
        "# Define income bins and labels (ensure consistency or re-define if not in current session)\n",
        "if 'Income_Group' not in df.columns:\n",
        "    income_bins = [0, 500000, 1000000, 1500000, df['Annual Income'].max() + 1]\n",
        "    income_labels = ['0-500K', '500K-1M', '1M-1.5M', '>1.5M']\n",
        "    df['Income_Group'] = pd.cut(df['Annual Income'], bins=income_bins, labels=income_labels, right=False)\n",
        "\n",
        "average_price_by_engine_income = df.groupby(['Engine', 'Income_Group'])['Price ($)'].mean().reset_index()\n",
        "\n",
        "print(\"Average car price by Engine Type and Annual Income Group:\")\n",
        "print(average_price_by_engine_income.to_markdown(index=False, numalign=\"left\", stralign=\"left\"))"
      ],
      "metadata": {
        "colab": {
          "base_uri": "https://localhost:8080/"
        },
        "id": "ZXTnllUC91AQ",
        "outputId": "db83522c-6c9f-4b88-fa0c-243b46dfc502"
      },
      "execution_count": 44,
      "outputs": [
        {
          "output_type": "stream",
          "name": "stdout",
          "text": [
            "Correlation between Car Price and Annual Income: 0.01\n",
            "\n",
            "------------------------------\n",
            "\n",
            "Average car price by Engine Type and Annual Income Group:\n",
            "| Engine                    | Income_Group   | Price ($)   |\n",
            "|:--------------------------|:---------------|:------------|\n",
            "| DoubleÂ Overhead Camshaft | 0-500K         | 28264.6     |\n",
            "| DoubleÂ Overhead Camshaft | 500K-1M        | 27938.5     |\n",
            "| DoubleÂ Overhead Camshaft | 1M-1.5M        | 28552.2     |\n",
            "| DoubleÂ Overhead Camshaft | >1.5M          | 28639.6     |\n",
            "| Overhead Camshaft         | 0-500K         | 27840.6     |\n",
            "| Overhead Camshaft         | 500K-1M        | 28040.9     |\n",
            "| Overhead Camshaft         | 1M-1.5M        | 27979.9     |\n",
            "| Overhead Camshaft         | >1.5M          | 27659.2     |\n"
          ]
        },
        {
          "output_type": "stream",
          "name": "stderr",
          "text": [
            "<ipython-input-44-7ffacec96515>:15: FutureWarning: The default of observed=False is deprecated and will be changed to True in a future version of pandas. Pass observed=False to retain current behavior or observed=True to adopt the future default and silence this warning.\n",
            "  average_price_by_engine_income = df.groupby(['Engine', 'Income_Group'])['Price ($)'].mean().reset_index()\n"
          ]
        }
      ]
    },
    {
      "cell_type": "markdown",
      "source": [
        "Qns-15 How does the average car price vary across different car models and engine types?"
      ],
      "metadata": {
        "id": "TV2RxmQf95q0"
      }
    },
    {
      "cell_type": "code",
      "source": [
        "# Group by 'Model' and 'Engine' and calculate the average 'Price ($)'\n",
        "average_price_by_model_engine = df.groupby(['Model', 'Engine'])['Price ($)'].mean().reset_index()\n",
        "\n",
        "# Rename the 'Price ($)' column for clarity\n",
        "average_price_by_model_engine.rename(columns={'Price ($)': 'Average_Price'}, inplace=True)\n",
        "\n",
        "# Sort the results by Average_Price in descending order for better insights\n",
        "average_price_by_model_engine = average_price_by_model_engine.sort_values(by='Average_Price', ascending=False)\n",
        "\n",
        "# Display the results\n",
        "# Due to potentially large number of combinations, I will display the top 20 rows\n",
        "# and a summary of the distribution of average prices.\n",
        "print(\"Average car price by Car Model and Engine Type (Top 20 combinations):\")\n",
        "print(average_price_by_model_engine.head(20).to_markdown(index=False, numalign=\"left\", stralign=\"left\"))\n",
        "\n",
        "print(\"\\nBasic statistics of average prices across Model and Engine combinations:\")\n",
        "print(average_price_by_model_engine['Average_Price'].describe().to_markdown(numalign=\"left\", stralign=\"left\"))"
      ],
      "metadata": {
        "colab": {
          "base_uri": "https://localhost:8080/"
        },
        "id": "X8Vpe0bw9915",
        "outputId": "9128b091-060c-450a-fdfc-eff6c981c6f4"
      },
      "execution_count": 45,
      "outputs": [
        {
          "output_type": "stream",
          "name": "stdout",
          "text": [
            "Average car price by Car Model and Engine Type (Top 20 combinations):\n",
            "| Model         | Engine                    | Average_Price   |\n",
            "|:--------------|:--------------------------|:----------------|\n",
            "| SC            | Overhead Camshaft         | 61074.8         |\n",
            "| Ranger        | DoubleÂ Overhead Camshaft | 61064.1         |\n",
            "| Sable         | Overhead Camshaft         | 61039.8         |\n",
            "| Catera        | DoubleÂ Overhead Camshaft | 56836.9         |\n",
            "| LX470         | Overhead Camshaft         | 54037.5         |\n",
            "| LS400         | Overhead Camshaft         | 53157.9         |\n",
            "| GS400         | Overhead Camshaft         | 53086           |\n",
            "| Tacoma        | DoubleÂ Overhead Camshaft | 53085.8         |\n",
            "| Aurora        | Overhead Camshaft         | 51833.6         |\n",
            "| Park Avenue   | DoubleÂ Overhead Camshaft | 49387.8         |\n",
            "| Outback       | Overhead Camshaft         | 49110.3         |\n",
            "| LHS           | Overhead Camshaft         | 47954.4         |\n",
            "| Taurus        | Overhead Camshaft         | 47781.4         |\n",
            "| Ram Pickup    | DoubleÂ Overhead Camshaft | 47163.8         |\n",
            "| 528i          | DoubleÂ Overhead Camshaft | 46288.7         |\n",
            "| DeVille       | DoubleÂ Overhead Camshaft | 46154.1         |\n",
            "| Contour       | DoubleÂ Overhead Camshaft | 45309.1         |\n",
            "| Beetle        | DoubleÂ Overhead Camshaft | 45080.4         |\n",
            "| Montero Sport | DoubleÂ Overhead Camshaft | 44992.9         |\n",
            "| Prowler       | Overhead Camshaft         | 44740.7         |\n",
            "\n",
            "Basic statistics of average prices across Model and Engine combinations:\n",
            "|       | Average_Price   |\n",
            "|:------|:----------------|\n",
            "| count | 261             |\n",
            "| mean  | 27725.5         |\n",
            "| std   | 10237.6         |\n",
            "| min   | 9063.37         |\n",
            "| 25%   | 20500.2         |\n",
            "| 50%   | 25079.7         |\n",
            "| 75%   | 33562.2         |\n",
            "| max   | 61074.8         |\n"
          ]
        }
      ]
    }
  ]
}